{
  "nbformat": 4,
  "nbformat_minor": 0,
  "metadata": {
    "colab": {
      "provenance": []
    },
    "kernelspec": {
      "name": "python3",
      "display_name": "Python 3"
    },
    "language_info": {
      "name": "python"
    }
  },
  "cells": [
    {
      "cell_type": "markdown",
      "source": [
        "## Как я использовала бутстрэп?\n",
        "ДЗ\n",
        "\n",
        "Спиридонова Алина Владиславна\n",
        "\n"
      ],
      "metadata": {
        "id": "Bxk7NJeyDyoH"
      }
    },
    {
      "cell_type": "code",
      "execution_count": 1,
      "metadata": {
        "id": "2Q7rzJUo9-Gm"
      },
      "outputs": [],
      "source": [
        "import numpy as np"
      ]
    },
    {
      "cell_type": "code",
      "source": [
        "!pip install arch"
      ],
      "metadata": {
        "colab": {
          "base_uri": "https://localhost:8080/",
          "height": 0
        },
        "id": "_H4WoNk3-IrY",
        "outputId": "e682d230-e0a1-4795-bf61-b01036e5d743"
      },
      "execution_count": 2,
      "outputs": [
        {
          "output_type": "stream",
          "name": "stdout",
          "text": [
            "Collecting arch\n",
            "  Downloading arch-6.2.0-cp310-cp310-manylinux_2_17_x86_64.manylinux2014_x86_64.whl (981 kB)\n",
            "\u001b[2K     \u001b[90m━━━━━━━━━━━━━━━━━━━━━━━━━━━━━━━━━━━━━━━━\u001b[0m \u001b[32m981.7/981.7 kB\u001b[0m \u001b[31m8.5 MB/s\u001b[0m eta \u001b[36m0:00:00\u001b[0m\n",
            "\u001b[?25hRequirement already satisfied: numpy>=1.19 in /usr/local/lib/python3.10/dist-packages (from arch) (1.23.5)\n",
            "Requirement already satisfied: scipy>=1.5 in /usr/local/lib/python3.10/dist-packages (from arch) (1.11.3)\n",
            "Requirement already satisfied: pandas>=1.1 in /usr/local/lib/python3.10/dist-packages (from arch) (1.5.3)\n",
            "Requirement already satisfied: statsmodels>=0.12 in /usr/local/lib/python3.10/dist-packages (from arch) (0.14.0)\n",
            "Requirement already satisfied: python-dateutil>=2.8.1 in /usr/local/lib/python3.10/dist-packages (from pandas>=1.1->arch) (2.8.2)\n",
            "Requirement already satisfied: pytz>=2020.1 in /usr/local/lib/python3.10/dist-packages (from pandas>=1.1->arch) (2023.3.post1)\n",
            "Requirement already satisfied: patsy>=0.5.2 in /usr/local/lib/python3.10/dist-packages (from statsmodels>=0.12->arch) (0.5.3)\n",
            "Requirement already satisfied: packaging>=21.3 in /usr/local/lib/python3.10/dist-packages (from statsmodels>=0.12->arch) (23.2)\n",
            "Requirement already satisfied: six in /usr/local/lib/python3.10/dist-packages (from patsy>=0.5.2->statsmodels>=0.12->arch) (1.16.0)\n",
            "Installing collected packages: arch\n",
            "Successfully installed arch-6.2.0\n"
          ]
        }
      ]
    },
    {
      "cell_type": "code",
      "source": [
        "from arch.bootstrap import IIDBootstrap"
      ],
      "metadata": {
        "id": "V-ia1X6b-JLu"
      },
      "execution_count": 3,
      "outputs": []
    },
    {
      "cell_type": "markdown",
      "source": [
        "Сгенерируем выборку из нормального распределения:"
      ],
      "metadata": {
        "id": "LGYaeohCAFR0"
      }
    },
    {
      "cell_type": "code",
      "source": [
        "x = np.random.normal(loc=10, scale=5, size=100)"
      ],
      "metadata": {
        "id": "Wl5_1xxL-ReX"
      },
      "execution_count": 4,
      "outputs": []
    },
    {
      "cell_type": "markdown",
      "source": [
        "Построим доверительный интервал для оценки среднего этой выборки:"
      ],
      "metadata": {
        "id": "ju2PFK3VE8nZ"
      }
    },
    {
      "cell_type": "code",
      "source": [
        "boot_x = IIDBootstrap(x, seed=111111)\n",
        "conf_int = boot_x.conf_int(np.mean, method='percentile', reps=10000, size=0.95)\n",
        "print(f\"Доверительный интервал для среднего: [{conf_int[0][0]}, {conf_int[1][0]}]\")"
      ],
      "metadata": {
        "colab": {
          "base_uri": "https://localhost:8080/",
          "height": 0
        },
        "id": "HFZNKg9o-atw",
        "outputId": "2ccb9735-feb6-44c9-b830-5958e49eef48"
      },
      "execution_count": 5,
      "outputs": [
        {
          "output_type": "stream",
          "name": "stdout",
          "text": [
            "Доверительный интервал для среднего: [8.817089241244643, 10.867515892168509]\n"
          ]
        }
      ]
    },
    {
      "cell_type": "markdown",
      "source": [
        "Получили, что среднее с вероятностью 95% лежит в интервале от 8.817089241244643 до 10.867515892168509"
      ],
      "metadata": {
        "id": "gwRo3McicvcJ"
      }
    },
    {
      "cell_type": "markdown",
      "source": [
        "Также построим доверительный интервал для оценки 90-процентного квантиля:"
      ],
      "metadata": {
        "id": "WmLVwEN1FLA6"
      }
    },
    {
      "cell_type": "code",
      "source": [
        "def quantile(x):\n",
        "    return np.quantile(x, 0.9)\n",
        "\n",
        "boot_x = IIDBootstrap(x, seed=111111)\n",
        "conf_int = boot_x.conf_int(quantile, method='percentile', reps=10000, size=0.95)\n",
        "print(f\"Доверительный интервал для 90% квантиля: [{conf_int[0][0]}, {conf_int[1][0]}]\")"
      ],
      "metadata": {
        "colab": {
          "base_uri": "https://localhost:8080/",
          "height": 0
        },
        "id": "yDTTdYdbAe1f",
        "outputId": "1c9818c0-b45e-4642-d341-2eea3217a69c"
      },
      "execution_count": 6,
      "outputs": [
        {
          "output_type": "stream",
          "name": "stdout",
          "text": [
            "Доверительный интервал для 90% квантиля: [14.974053050633653, 19.362897763674873]\n"
          ]
        }
      ]
    },
    {
      "cell_type": "markdown",
      "source": [
        "Получили, что 90% квантиль с вероятностью 95% лежит в интервале от 14.974053050633653 до 19.362897763674873"
      ],
      "metadata": {
        "id": "u9YGhSwGdNIk"
      }
    },
    {
      "cell_type": "code",
      "source": [],
      "metadata": {
        "id": "b5-RJSWOAqCU"
      },
      "execution_count": 24,
      "outputs": []
    }
  ]
}